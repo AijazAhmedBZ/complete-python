{
 "cells": [
  {
   "cell_type": "markdown",
   "metadata": {},
   "source": [
    "# Object Types / Data Types\n",
    "\n",
    "- Number : 1234, 3.1415, 3+4j, 0b111, Decimal(), Fraction()\n",
    "- String : 'spam', \"Bob's\", b'a\\x01c', u'sp\\xc4m'\n",
    "- List : [1, [2, 'three'], 4.5], list(range(10))\n",
    "- Tuple : (1, 'spam', 4, 'U'), tuple('spam'), namedtuple\n",
    "- Dictionary : {'food': 'spam', 'taste': 'yum'}, dict(hours=10)\n",
    "\n",
    "- Set : set('abc'), {'a', 'b', 'c'}, remove duplicat value\n",
    "\n",
    "- File : open('eggs.txt'), open(r'C:\\ham.bin', 'wb')\n",
    "\n",
    "- Boolean : True, False\n",
    "- None : None\n",
    "- Funtions, modules, classes\n",
    "\n",
    "- Advance: Decorators, Generators, Iterators, MetaProgramming"
   ]
  },
  {
   "cell_type": "code",
   "execution_count": 19,
   "metadata": {},
   "outputs": [],
   "source": [
    "import math\n",
    "import random"
   ]
  },
  {
   "cell_type": "code",
   "execution_count": 20,
   "metadata": {},
   "outputs": [
    {
     "data": {
      "text/plain": [
       "3.141592653589793"
      ]
     },
     "execution_count": 20,
     "metadata": {},
     "output_type": "execute_result"
    }
   ],
   "source": [
    "math.pi"
   ]
  },
  {
   "cell_type": "code",
   "execution_count": 21,
   "metadata": {},
   "outputs": [
    {
     "name": "stdout",
     "output_type": "stream",
     "text": [
      "0.426104954981137\n"
     ]
    }
   ],
   "source": [
    "print(random.random())"
   ]
  },
  {
   "cell_type": "code",
   "execution_count": 22,
   "metadata": {},
   "outputs": [
    {
     "name": "stdout",
     "output_type": "stream",
     "text": [
      "1\n"
     ]
    }
   ],
   "source": [
    "print(random.choice([1, 2, 3, 4, 5]))"
   ]
  },
  {
   "cell_type": "code",
   "execution_count": 23,
   "metadata": {},
   "outputs": [
    {
     "name": "stdout",
     "output_type": "stream",
     "text": [
      "5\n",
      "A\n"
     ]
    }
   ],
   "source": [
    "username:str = \"Aijaz\"\n",
    "print(len(username))\n",
    "print(username[0])"
   ]
  },
  {
   "cell_type": "code",
   "execution_count": 24,
   "metadata": {},
   "outputs": [
    {
     "name": "stdout",
     "output_type": "stream",
     "text": [
      "z\n"
     ]
    }
   ],
   "source": [
    "print(username[-1])"
   ]
  },
  {
   "cell_type": "code",
   "execution_count": 25,
   "metadata": {},
   "outputs": [
    {
     "name": "stdout",
     "output_type": "stream",
     "text": [
      "z\n"
     ]
    }
   ],
   "source": [
    "print(username[len(username)-1])"
   ]
  },
  {
   "cell_type": "code",
   "execution_count": 26,
   "metadata": {},
   "outputs": [
    {
     "data": {
      "text/plain": [
       "['__add__',\n",
       " '__class__',\n",
       " '__contains__',\n",
       " '__delattr__',\n",
       " '__dir__',\n",
       " '__doc__',\n",
       " '__eq__',\n",
       " '__format__',\n",
       " '__ge__',\n",
       " '__getattribute__',\n",
       " '__getitem__',\n",
       " '__getnewargs__',\n",
       " '__getstate__',\n",
       " '__gt__',\n",
       " '__hash__',\n",
       " '__init__',\n",
       " '__init_subclass__',\n",
       " '__iter__',\n",
       " '__le__',\n",
       " '__len__',\n",
       " '__lt__',\n",
       " '__mod__',\n",
       " '__mul__',\n",
       " '__ne__',\n",
       " '__new__',\n",
       " '__reduce__',\n",
       " '__reduce_ex__',\n",
       " '__repr__',\n",
       " '__rmod__',\n",
       " '__rmul__',\n",
       " '__setattr__',\n",
       " '__sizeof__',\n",
       " '__str__',\n",
       " '__subclasshook__',\n",
       " 'capitalize',\n",
       " 'casefold',\n",
       " 'center',\n",
       " 'count',\n",
       " 'encode',\n",
       " 'endswith',\n",
       " 'expandtabs',\n",
       " 'find',\n",
       " 'format',\n",
       " 'format_map',\n",
       " 'index',\n",
       " 'isalnum',\n",
       " 'isalpha',\n",
       " 'isascii',\n",
       " 'isdecimal',\n",
       " 'isdigit',\n",
       " 'isidentifier',\n",
       " 'islower',\n",
       " 'isnumeric',\n",
       " 'isprintable',\n",
       " 'isspace',\n",
       " 'istitle',\n",
       " 'isupper',\n",
       " 'join',\n",
       " 'ljust',\n",
       " 'lower',\n",
       " 'lstrip',\n",
       " 'maketrans',\n",
       " 'partition',\n",
       " 'removeprefix',\n",
       " 'removesuffix',\n",
       " 'replace',\n",
       " 'rfind',\n",
       " 'rindex',\n",
       " 'rjust',\n",
       " 'rpartition',\n",
       " 'rsplit',\n",
       " 'rstrip',\n",
       " 'split',\n",
       " 'splitlines',\n",
       " 'startswith',\n",
       " 'strip',\n",
       " 'swapcase',\n",
       " 'title',\n",
       " 'translate',\n",
       " 'upper',\n",
       " 'zfill']"
      ]
     },
     "execution_count": 26,
     "metadata": {},
     "output_type": "execute_result"
    }
   ],
   "source": [
    "dir(username)"
   ]
  },
  {
   "cell_type": "code",
   "execution_count": 27,
   "metadata": {},
   "outputs": [
    {
     "name": "stdout",
     "output_type": "stream",
     "text": [
      "[123, 'Tea', 3.14]\n",
      "3\n",
      "123\n",
      "3.14\n"
     ]
    }
   ],
   "source": [
    "mylist:list = [123, \"Tea\", 3.14]\n",
    "print(mylist)\n",
    "print(len(mylist))\n",
    "print(mylist[0])\n",
    "print(mylist[-1])"
   ]
  },
  {
   "cell_type": "code",
   "execution_count": 28,
   "metadata": {},
   "outputs": [
    {
     "name": "stdout",
     "output_type": "stream",
     "text": [
      "{'one': 'Lemon', 'two': 'Ginger Tea', 'Three': 'Superman'}\n",
      "Superman\n"
     ]
    }
   ],
   "source": [
    "mydictionory: dict = {'one':'Lemon','two':'Ginger Tea','Three':\"Superman\"}\n",
    "print(mydictionory)\n",
    "print(mydictionory['Three'])"
   ]
  },
  {
   "cell_type": "code",
   "execution_count": 29,
   "metadata": {},
   "outputs": [
    {
     "name": "stdout",
     "output_type": "stream",
     "text": [
      "(1, 2, 3, 4, 5, 6, 7, 8, 9, 10)\n",
      "1\n"
     ]
    }
   ],
   "source": [
    "myyuple:tuple = (1,2,3,4,5,6,7,8,9,10)\n",
    "print(myyuple)\n",
    "print(myyuple[0])"
   ]
  },
  {
   "cell_type": "code",
   "execution_count": 30,
   "metadata": {},
   "outputs": [
    {
     "name": "stdout",
     "output_type": "stream",
     "text": [
      "3\n",
      "4294967295\n"
     ]
    }
   ],
   "source": [
    "import sys\n",
    "\n",
    "# print(sys.version)\n",
    "print(sys.getrefcount(24601))\n",
    "print(sys.getrefcount(\"aijaz\"))"
   ]
  },
  {
   "cell_type": "code",
   "execution_count": 31,
   "metadata": {},
   "outputs": [
    {
     "name": "stdout",
     "output_type": "stream",
     "text": [
      "[1, 2, 3]\n",
      "[[1, 2, 3]]\n",
      "[33, 2, 3]\n",
      "[[33, 2, 3]]\n"
     ]
    }
   ],
   "source": [
    "mylistone:list = [1,2,3]\n",
    "mylisttwo:list = [mylistone]\n",
    "\n",
    "print(mylistone)\n",
    "print(mylisttwo)\n",
    "\n",
    "mylistone[0] = 33\n",
    "print(mylistone)\n",
    "print(mylisttwo)"
   ]
  },
  {
   "cell_type": "code",
   "execution_count": 32,
   "metadata": {},
   "outputs": [
    {
     "name": "stdout",
     "output_type": "stream",
     "text": [
      "[1, 2, 3]\n",
      "[1, 2, 3]\n",
      "[44, 2, 3]\n",
      "[44, 2, 3]\n"
     ]
    }
   ],
   "source": [
    "l1 = [1,2,3]\n",
    "l2 = l1\n",
    "\n",
    "print(l1)\n",
    "print(l2)\n",
    "\n",
    "l1[0] = 44\n",
    "\n",
    "print(l1)\n",
    "print(l2)\n"
   ]
  },
  {
   "cell_type": "code",
   "execution_count": 33,
   "metadata": {},
   "outputs": [
    {
     "name": "stdout",
     "output_type": "stream",
     "text": [
      "[1, 2, 3]\n",
      "[[1, 2, 3]]\n",
      "[55, 2, 3]\n",
      "[1, 2, 3]\n"
     ]
    }
   ],
   "source": [
    "p1 = [1,2,3]\n",
    "p2 = [p1]\n",
    "\n",
    "print(p1)\n",
    "print(p2)\n",
    "\n",
    "p2 = [1,2,3]\n",
    "p1[0] = 55\n",
    "\n",
    "print(p1)\n",
    "print(p2)\n"
   ]
  },
  {
   "cell_type": "code",
   "execution_count": 34,
   "metadata": {},
   "outputs": [
    {
     "name": "stdout",
     "output_type": "stream",
     "text": [
      "[1, 2, 3]\n",
      "[[1, 2, 3]]\n",
      "[55, 2, 3]\n",
      "[[1, 2, 3]]\n"
     ]
    }
   ],
   "source": [
    "h1 = [1,2,3]\n",
    "h2 = [h1[:]]\n",
    "\n",
    "print(h1)\n",
    "print(h2)\n",
    "\n",
    "h1[0] = 55\n",
    "\n",
    "print(h1)\n",
    "print(h2)"
   ]
  },
  {
   "cell_type": "code",
   "execution_count": 35,
   "metadata": {},
   "outputs": [
    {
     "name": "stdout",
     "output_type": "stream",
     "text": [
      "[1, 2, 3, 4, 5]\n",
      "[55, 2, 3]\n"
     ]
    }
   ],
   "source": [
    "import copy\n",
    "\n",
    "h2 = copy.copy(h1) #for copy list\n",
    "h2 = copy.deepcopy(h1) #for copy list in list\n",
    "\n",
    "h1 = [1, 2, 3, 4, 5]\n",
    "\n",
    "print(h1)\n",
    "print(h2)"
   ]
  },
  {
   "cell_type": "markdown",
   "metadata": {},
   "source": [
    "# Numbers\n",
    "\n",
    "- In Pythone numbers are very powerfull.\n",
    "\n",
    "- Matlab is using for numbers\n"
   ]
  },
  {
   "cell_type": "markdown",
   "metadata": {},
   "source": [
    "# Operator Over Loading\n",
    "\n",
    "class Point:\n",
    "    def __init__(self, x, y):\n",
    "        self.x = x\n",
    "        self.y = y\n",
    "\n",
    "#### Overloading the + operator\n",
    "    def __add__(self, other):\n",
    "        return Point(self.x + other.x, self.y + other.y)\n",
    "\n",
    "#### Overloading the str() function to print the point\n",
    "    def __str__(self):\n",
    "        return f\"({self.x}, {self.y})\"\n",
    "\n",
    "#### Creating two points\n",
    "p1 = Point(2, 3)\n",
    "p2 = Point(4, 5)\n",
    "\n",
    "### Adding the points using the + operator\n",
    "p3 = p1 + p2\n",
    "\n",
    "### Displaying the result\n",
    "print(p3)  # Output: (6, 8)"
   ]
  },
  {
   "cell_type": "code",
   "execution_count": 36,
   "metadata": {},
   "outputs": [
    {
     "name": "stdout",
     "output_type": "stream",
     "text": [
      "(6, 8)\n"
     ]
    }
   ],
   "source": [
    "class Point:\n",
    "    def __init__(self, x, y):\n",
    "        self.x = x\n",
    "        self.y = y\n",
    "\n",
    "    # Overloading the + operator\n",
    "    def __add__(self, other):\n",
    "        return Point(self.x + other.x, self.y + other.y)\n",
    "\n",
    "    # Overloading the str() function to print the point\n",
    "    def __str__(self):\n",
    "        return f\"({self.x}, {self.y})\"\n",
    "\n",
    "# Creating two points\n",
    "p1 = Point(2, 3)\n",
    "p2 = Point(4, 5)\n",
    "\n",
    "# Adding the points using the + operator\n",
    "p3 = p1 + p2\n",
    "\n",
    "# Displaying the result\n",
    "print(p3)  # Output: (6, 8)"
   ]
  },
  {
   "cell_type": "code",
   "execution_count": 37,
   "metadata": {},
   "outputs": [
    {
     "name": "stdout",
     "output_type": "stream",
     "text": [
      "'tea'\n",
      "tea\n",
      "tea\n"
     ]
    }
   ],
   "source": [
    "print(repr(\"tea\"))\n",
    "print(str(\"tea\"))\n",
    "print(\"tea\")"
   ]
  },
  {
   "cell_type": "code",
   "execution_count": 38,
   "metadata": {},
   "outputs": [
    {
     "name": "stdout",
     "output_type": "stream",
     "text": [
      "20 is greater than 3\n"
     ]
    }
   ],
   "source": [
    "# Comparision Operators\n",
    "\n",
    "def comparison_operators(x, y):\n",
    "    \"\"\"\n",
    "    Compare two values using comparison operators\n",
    "    \"\"\"\n",
    "    \n",
    "    if x > y:\n",
    "        print(f\"{x} is greater than {y}\")\n",
    "    elif x < y:\n",
    "        print(f\"{x} is less than {y}\")\n",
    "    else:\n",
    "        print(f\"{x} is equal to {y}\")\n",
    "\n",
    "comparison_operators(20,3)"
   ]
  },
  {
   "cell_type": "code",
   "execution_count": 39,
   "metadata": {},
   "outputs": [
    {
     "name": "stdout",
     "output_type": "stream",
     "text": [
      "False\n"
     ]
    }
   ],
   "source": [
    "x = 2\n",
    "y = 30\n",
    "z = 4\n",
    "print(x < y and y < z)"
   ]
  },
  {
   "cell_type": "code",
   "execution_count": 40,
   "metadata": {},
   "outputs": [
    {
     "data": {
      "text/plain": [
       "False"
      ]
     },
     "execution_count": 40,
     "metadata": {},
     "output_type": "execute_result"
    }
   ],
   "source": [
    "1 == 2<3"
   ]
  },
  {
   "cell_type": "markdown",
   "metadata": {},
   "source": [
    "## Random\n",
    "- random.random() provides value from 0 to 1\n",
    "- random.randint() provides any range\n",
    "- random.choice() select fron array\n",
    "- random.shuffle()"
   ]
  },
  {
   "cell_type": "code",
   "execution_count": 41,
   "metadata": {},
   "outputs": [
    {
     "data": {
      "text/plain": [
       "0.8749663173004522"
      ]
     },
     "execution_count": 41,
     "metadata": {},
     "output_type": "execute_result"
    }
   ],
   "source": [
    "import random\n",
    "\n",
    "random.random()"
   ]
  },
  {
   "cell_type": "code",
   "execution_count": 42,
   "metadata": {},
   "outputs": [
    {
     "data": {
      "text/plain": [
       "5"
      ]
     },
     "execution_count": 42,
     "metadata": {},
     "output_type": "execute_result"
    }
   ],
   "source": [
    "random.randint(1, 10)"
   ]
  },
  {
   "cell_type": "code",
   "execution_count": 43,
   "metadata": {},
   "outputs": [
    {
     "data": {
      "text/plain": [
       "'Lemon Tea'"
      ]
     },
     "execution_count": 43,
     "metadata": {},
     "output_type": "execute_result"
    }
   ],
   "source": [
    "l1 = [\"Lemon Tea\", \"Ginger Tea\", \"Masala Tea\"]\n",
    "\n",
    "random.choice(l1)"
   ]
  },
  {
   "cell_type": "code",
   "execution_count": 44,
   "metadata": {},
   "outputs": [
    {
     "name": "stdout",
     "output_type": "stream",
     "text": [
      "['Masala Tea', 'Lemon Tea', 'Ginger Tea']\n"
     ]
    }
   ],
   "source": [
    "random.shuffle(l1)\n",
    "print(l1)"
   ]
  },
  {
   "cell_type": "markdown",
   "metadata": {},
   "source": [
    "## Decimal\n",
    "- To handle decimal calculation\n",
    "- To further study, \"Decimal Context Manager\""
   ]
  },
  {
   "cell_type": "code",
   "execution_count": 45,
   "metadata": {},
   "outputs": [
    {
     "data": {
      "text/plain": [
       "Decimal('0.3')"
      ]
     },
     "execution_count": 45,
     "metadata": {},
     "output_type": "execute_result"
    }
   ],
   "source": [
    "from decimal import Decimal\n",
    "\n",
    "Decimal('0.1') + Decimal('0.1') + Decimal('0.1')"
   ]
  },
  {
   "cell_type": "code",
   "execution_count": 46,
   "metadata": {},
   "outputs": [
    {
     "data": {
      "text/plain": [
       "Decimal('0.0')"
      ]
     },
     "execution_count": 46,
     "metadata": {},
     "output_type": "execute_result"
    }
   ],
   "source": [
    "Decimal('0.1') + Decimal('0.1') + Decimal('0.1') - Decimal('0.3')"
   ]
  },
  {
   "cell_type": "markdown",
   "metadata": {},
   "source": [
    "## Fractions"
   ]
  },
  {
   "cell_type": "code",
   "execution_count": 47,
   "metadata": {},
   "outputs": [
    {
     "name": "stdout",
     "output_type": "stream",
     "text": [
      "3/4\n"
     ]
    }
   ],
   "source": [
    "from fractions import Fraction\n",
    "\n",
    "myFra = Fraction(3, 4)\n",
    "\n",
    "print(myFra)"
   ]
  },
  {
   "cell_type": "markdown",
   "metadata": {},
   "source": [
    "## Set\n",
    "\n",
    "- Define in { } rather than dictionary which defines in key : value pair"
   ]
  },
  {
   "cell_type": "code",
   "execution_count": 48,
   "metadata": {},
   "outputs": [
    {
     "name": "stdout",
     "output_type": "stream",
     "text": [
      "{1, 2, 3, 4, 5}\n"
     ]
    }
   ],
   "source": [
    "setone = {1, 2, 3, 4, 5}\n",
    "print(setone)"
   ]
  },
  {
   "cell_type": "markdown",
   "metadata": {},
   "source": [
    "## String\n",
    "\n",
    "- ' '\n",
    "- \" \"\n",
    "- \"\"\" \"\"\"\n",
    "- slice()\n",
    "- split()\n",
    "- string are UNI Code, What is UTF8?\n",
    "- lower()\n",
    "- upper()\n",
    "- strip() To remove spaces from start and end, specialy use in web development\n",
    "- replace()\n",
    "- find()\n",
    "- join()\n",
    "- len()"
   ]
  },
  {
   "cell_type": "code",
   "execution_count": 49,
   "metadata": {},
   "outputs": [
    {
     "name": "stdout",
     "output_type": "stream",
     "text": [
      "Lemon Tea\n",
      "Masala Tea\n"
     ]
    }
   ],
   "source": [
    "Tea = \"Lemon Tea\"\n",
    "\n",
    "print(Tea)\n",
    "\n",
    "Tea = \"Masala Tea\"\n",
    "\n",
    "print(Tea)"
   ]
  },
  {
   "cell_type": "code",
   "execution_count": 50,
   "metadata": {},
   "outputs": [
    {
     "name": "stdout",
     "output_type": "stream",
     "text": [
      "M\n"
     ]
    }
   ],
   "source": [
    "## First Charactor\n",
    "\n",
    "first_char = Tea[0]\n",
    "\n",
    "print(first_char)"
   ]
  },
  {
   "cell_type": "code",
   "execution_count": 51,
   "metadata": {},
   "outputs": [
    {
     "name": "stdout",
     "output_type": "stream",
     "text": [
      "Masala\n",
      "Masala Tea\n"
     ]
    }
   ],
   "source": [
    "## Slice\n",
    "\n",
    "slice_tea = Tea[0:6]\n",
    "\n",
    "print(slice_tea)\n",
    "print(Tea)"
   ]
  },
  {
   "cell_type": "code",
   "execution_count": 52,
   "metadata": {},
   "outputs": [
    {
     "name": "stdout",
     "output_type": "stream",
     "text": [
      "0123456789\n",
      "23456789\n",
      "01\n",
      "02468\n",
      "13579\n",
      "9876543210\n",
      "97531\n",
      "1\n",
      "13579\n",
      "97531\n"
     ]
    }
   ],
   "source": [
    "## Slice\n",
    "\n",
    "num_list = \"0123456789\"\n",
    "\n",
    "print(num_list[:])\n",
    "print(num_list[2:])\n",
    "print(num_list[:2])\n",
    "print(num_list[::2])\n",
    "print(num_list[1::2])\n",
    "print(num_list[::-1])\n",
    "print(num_list[::-2])\n",
    "print(num_list[1::-2])\n",
    "print(num_list[1::2])\n",
    "print(num_list[-1::-2])"
   ]
  },
  {
   "cell_type": "code",
   "execution_count": 53,
   "metadata": {},
   "outputs": [
    {
     "name": "stdout",
     "output_type": "stream",
     "text": [
      "Lemon Tea, Ginger Tea, Masala Tea, Mint Tea\n",
      "['Lemon', 'Tea,', 'Ginger', 'Tea,', 'Masala', 'Tea,', 'Mint', 'Tea']\n",
      "['Lemon Tea', 'Ginger Tea', 'Masala Tea', 'Mint Tea']\n"
     ]
    }
   ],
   "source": [
    "## Split\n",
    "\n",
    "Tea = \"Lemon Tea, Ginger Tea, Masala Tea, Mint Tea\"\n",
    "\n",
    "print(Tea)\n",
    "print(Tea.split())\n",
    "print(Tea.split(\", \"))"
   ]
  },
  {
   "cell_type": "code",
   "execution_count": 54,
   "metadata": {},
   "outputs": [
    {
     "name": "stdout",
     "output_type": "stream",
     "text": [
      "Ginger Tea, Ginger Tea, Masala Tea, Mint Tea\n",
      "Lemon Tea, Ginger Tea, Masala Tea, Mint Tea\n"
     ]
    }
   ],
   "source": [
    "## Replace\n",
    "\n",
    "print(Tea.replace(\"Lemon\", \"Ginger\"))\n",
    "print(Tea)"
   ]
  },
  {
   "cell_type": "code",
   "execution_count": 55,
   "metadata": {},
   "outputs": [
    {
     "name": "stdout",
     "output_type": "stream",
     "text": [
      "23\n",
      "-1\n"
     ]
    }
   ],
   "source": [
    "## Find\n",
    "\n",
    "print(Tea.find(\"Masala\")) # it depicts the position of found string\n",
    "print(Tea.find(\"masala\")) # it depicts charactor not found"
   ]
  },
  {
   "cell_type": "code",
   "execution_count": 56,
   "metadata": {},
   "outputs": [
    {
     "name": "stdout",
     "output_type": "stream",
     "text": [
      "4\n"
     ]
    }
   ],
   "source": [
    "## Count\n",
    "\n",
    "print(Tea.count('Tea'))"
   ]
  },
  {
   "cell_type": "code",
   "execution_count": 57,
   "metadata": {},
   "outputs": [
    {
     "name": "stdout",
     "output_type": "stream",
     "text": [
      "I'd like 2 cups of Lemon tea\n"
     ]
    }
   ],
   "source": [
    "## Order Format\n",
    "\n",
    "Tea = \"Lemon\"\n",
    "Qty = 2\n",
    "Order = \"I'd like {} cups of {} tea\"\n",
    "\n",
    "print(Order.format(Qty, Tea))"
   ]
  },
  {
   "cell_type": "code",
   "execution_count": 58,
   "metadata": {},
   "outputs": [
    {
     "name": "stdout",
     "output_type": "stream",
     "text": [
      "LemonGingerMasalaMint\n",
      "Lemon Ginger Masala Mint\n",
      "Lemon - Ginger - Masala - Mint\n",
      "Lemon, Ginger, Masala, Mint\n"
     ]
    }
   ],
   "source": [
    "## Join to Convert List into String\n",
    "\n",
    "from os.path import join\n",
    "Tea_variety = ['Lemon', 'Ginger', 'Masala', 'Mint']\n",
    "\n",
    "print(\"\". join(Tea_variety))\n",
    "print(\" \". join(Tea_variety))\n",
    "print(\" - \". join(Tea_variety))\n",
    "print(\", \". join(Tea_variety))"
   ]
  },
  {
   "cell_type": "code",
   "execution_count": 59,
   "metadata": {},
   "outputs": [
    {
     "name": "stdout",
     "output_type": "stream",
     "text": [
      "Lemon Tea\n",
      "9\n",
      "<class 'str'>\n"
     ]
    }
   ],
   "source": [
    "## Length\n",
    "Tea_variety = \"Lemon Tea\"\n",
    "print(Tea_variety)\n",
    "print(len(Tea_variety))\n",
    "print(type(Tea_variety))"
   ]
  },
  {
   "cell_type": "markdown",
   "metadata": {},
   "source": [
    "# List"
   ]
  },
  {
   "cell_type": "code",
   "execution_count": 60,
   "metadata": {},
   "outputs": [
    {
     "name": "stdout",
     "output_type": "stream",
     "text": [
      "['Black', 'Green', 'Oolong', 'White']\n",
      "Black\n",
      "White\n",
      "['Black', 'Green', 'Oolong', 'Herbal']\n"
     ]
    }
   ],
   "source": [
    "tea_list = [\"Black\", \"Green\", \"Oolong\", \"White\"]\n",
    "\n",
    "print(tea_list)\n",
    "print(tea_list[0])\n",
    "print(tea_list[-1])\n",
    "tea_list[3] = \"Herbal\"\n",
    "print(tea_list)\n"
   ]
  },
  {
   "cell_type": "markdown",
   "metadata": {},
   "source": [
    "## Loop"
   ]
  },
  {
   "cell_type": "code",
   "execution_count": 61,
   "metadata": {},
   "outputs": [
    {
     "name": "stdout",
     "output_type": "stream",
     "text": [
      "Black - Green - Oolong - Herbal - "
     ]
    }
   ],
   "source": [
    "# For Loop\n",
    "\n",
    "for tea in tea_list:\n",
    "    # print(tea)\n",
    "    print(tea, end = \" - \")"
   ]
  },
  {
   "cell_type": "markdown",
   "metadata": {},
   "source": [
    "# If Else"
   ]
  },
  {
   "cell_type": "code",
   "execution_count": 62,
   "metadata": {},
   "outputs": [
    {
     "name": "stdout",
     "output_type": "stream",
     "text": [
      "['Black', 'Green', 'Oolong', 'Herbal']\n",
      "Oolong is in the list\n"
     ]
    }
   ],
   "source": [
    "tea_list.append(\"Oolong\")\n",
    "tea_list.pop()\n",
    "print(tea_list)\n",
    "\n",
    "if \"Oolong\" in tea_list:\n",
    "    print(\"Oolong is in the list\")\n",
    "else:\n",
    "    print(\"Oolong is not in the list\")"
   ]
  },
  {
   "cell_type": "markdown",
   "metadata": {},
   "source": [
    "# Dictionery"
   ]
  },
  {
   "cell_type": "code",
   "execution_count": 63,
   "metadata": {},
   "outputs": [
    {
     "name": "stdout",
     "output_type": "stream",
     "text": [
      "Zesty\n",
      "Zesty\n"
     ]
    }
   ],
   "source": [
    "tea_taste:dict = {\"Masala\":\"Spicy\",\"Ginger\":\"Zesty\",\"Lemon\":\"Sour\",\"Green\":\"Fresh\"}\n",
    "\n",
    "print(tea_taste[\"Ginger\"])\n",
    "print(tea_taste.get(\"Ginger\"))"
   ]
  },
  {
   "cell_type": "code",
   "execution_count": 64,
   "metadata": {},
   "outputs": [
    {
     "name": "stdout",
     "output_type": "stream",
     "text": [
      "Masala\n",
      "Ginger\n",
      "Lemon\n",
      "Green\n"
     ]
    }
   ],
   "source": [
    "for tea in tea_taste:\n",
    "    print(tea)"
   ]
  },
  {
   "cell_type": "code",
   "execution_count": 65,
   "metadata": {},
   "outputs": [
    {
     "name": "stdout",
     "output_type": "stream",
     "text": [
      "Spicy\n",
      "Zesty\n",
      "Sour\n",
      "Fresh\n"
     ]
    }
   ],
   "source": [
    "for tea in tea_taste.values():\n",
    "    print(tea)"
   ]
  },
  {
   "cell_type": "code",
   "execution_count": 66,
   "metadata": {},
   "outputs": [
    {
     "name": "stdout",
     "output_type": "stream",
     "text": [
      "('Masala', 'Spicy')\n",
      "('Ginger', 'Zesty')\n",
      "('Lemon', 'Sour')\n",
      "('Green', 'Fresh')\n"
     ]
    }
   ],
   "source": [
    "for tea in tea_taste.items():\n",
    "    print(tea)"
   ]
  },
  {
   "cell_type": "code",
   "execution_count": 67,
   "metadata": {},
   "outputs": [
    {
     "name": "stdout",
     "output_type": "stream",
     "text": [
      "Masala Spicy\n",
      "Ginger Zesty\n",
      "Lemon Sour\n",
      "Green Fresh\n"
     ]
    }
   ],
   "source": [
    "for tea in tea_taste:\n",
    "    print(tea, tea_taste[tea])"
   ]
  },
  {
   "cell_type": "code",
   "execution_count": 68,
   "metadata": {},
   "outputs": [
    {
     "name": "stdout",
     "output_type": "stream",
     "text": [
      "Masala Spicy\n",
      "Ginger Zesty\n",
      "Lemon Sour\n",
      "Green Fresh\n"
     ]
    }
   ],
   "source": [
    "for key, value in tea_taste.items():\n",
    "    print(key, value)"
   ]
  },
  {
   "cell_type": "code",
   "execution_count": 69,
   "metadata": {},
   "outputs": [
    {
     "name": "stdout",
     "output_type": "stream",
     "text": [
      "{'Masala': 'Spicy', 'Ginger': 'Zesty', 'Lemon': 'Sour', 'Green': 'Fresh', 'Earl Gray': 'Citrus'}\n"
     ]
    }
   ],
   "source": [
    "tea_taste[\"Earl Gray\"] = \"Citrus\"\n",
    "print(tea_taste)"
   ]
  },
  {
   "cell_type": "code",
   "execution_count": 70,
   "metadata": {},
   "outputs": [
    {
     "name": "stdout",
     "output_type": "stream",
     "text": [
      "{'Masala': 'Spicy', 'Lemon': 'Sour', 'Green': 'Fresh'}\n"
     ]
    }
   ],
   "source": [
    "tea_taste.pop(\"Ginger\") # to pop an item from dictionary\n",
    "tea_taste.popitem() # to pop the last item from dictionary\n",
    "print(tea_taste)"
   ]
  },
  {
   "cell_type": "code",
   "execution_count": 71,
   "metadata": {},
   "outputs": [
    {
     "name": "stdout",
     "output_type": "stream",
     "text": [
      "{0: 0, 1: 1, 2: 4, 3: 9, 4: 16, 5: 25}\n",
      "{}\n"
     ]
    }
   ],
   "source": [
    "squared_num = { x : x ** 2 for x in range(6)}\n",
    "print(squared_num)\n",
    "squared_num.clear()\n",
    "print(squared_num)\n"
   ]
  },
  {
   "cell_type": "code",
   "execution_count": 72,
   "metadata": {},
   "outputs": [
    {
     "name": "stdout",
     "output_type": "stream",
     "text": [
      "{'Masala': 'Delicious', 'Ginger': 'Delicious', 'Lemon': 'Delicious'}\n"
     ]
    }
   ],
   "source": [
    "from typing import Dict\n",
    "keys = [\"Masala\", \"Ginger\", \"Lemon\"]\n",
    "\n",
    "default_value = \"Delicious\"\n",
    "\n",
    "new_dict = Dict.fromkeys(keys, default_value)\n",
    "print(new_dict)"
   ]
  },
  {
   "cell_type": "markdown",
   "metadata": {},
   "source": [
    "# Problem Solving\n",
    "\n",
    "## questions on conditionals\n",
    "\n",
    "<details>\n",
    "<summary>1. Age Group Categorization\n",
    "</summary>\n",
    "Classify a person's age group: Child (< 13), Teenager (13-19), Adult (20-59), Senior (60+).\n",
    "\n",
    "</details>\n",
    "\n",
    "<details>\n",
    "<summary>2. Movie Ticket Pricing\n",
    "</summary>\n",
    "Problem: Movie tickets are priced based on age: $12 for adults (18 and over), $8 for children. Everyone gets a $2 discount on Wednesday.\n",
    "\n",
    "</details>\n",
    "\n",
    "<details>\n",
    "<summary>3. Grade Calculator\n",
    "</summary>\n",
    "Problem: Assign a letter grade based on a student's score: A (90-100), B (80-89), C (70-79), D (60-69), F (below 60).\n",
    "\n",
    "</details>\n",
    "\n",
    "<details>\n",
    "<summary>4. Fruit Ripeness Checker\n",
    "</summary>\n",
    "Problem: Determine if a fruit is ripe, overripe, or unripe based on its color. (e.g., Banana: Green - Unripe, Yellow - Ripe, Brown - Overripe)\n",
    "\n",
    "</details>\n",
    "\n",
    "<details>\n",
    "<summary>5. Weather Activity Suggestion\n",
    "</summary>\n",
    "Problem: Suggest an activity based on the weather (e.g., Sunny - Go for a walk, Rainy - Read a book, Snowy - Build a snowman).\n",
    "\n",
    "</details>\n",
    "\n",
    "<details>\n",
    "<summary>6. Transportation Mode Selection\n",
    "</summary>\n",
    "Problem: Choose a mode of transportation based on the distance (e.g., <3 km: Walk, 3-15 km: Bike, >15 km: Car).\n",
    "\n",
    "</details>\n",
    "\n",
    "\n",
    "<details>\n",
    "<summary>7. Coffee Customization\n",
    "</summary>\n",
    "Problem: Customize a coffee order: \"Small\", \"Medium\", or \"Large\" with an option for \"Extra shot\" of espresso.\n",
    "\n",
    "</details>\n",
    "\n",
    "\n",
    "<details>\n",
    "<summary>8. Password Strength Checker\n",
    "</summary>\n",
    "Problem: Check if a password is \"Weak\", \"Medium\", or \"Strong\". Criteria: < 6 chars (Weak), 6-10 chars (Medium), >10 chars (Strong).\n",
    "\n",
    "</details>\n",
    "\n",
    "\n",
    "<details>\n",
    "<summary>9. Leap Year Checker\n",
    "</summary>\n",
    "Problem: Determine if a year is a leap year. (Leap years are divisible by 4, but not by 100 unless also divisible by 400).\n",
    "\n",
    "</details>\n",
    "\n",
    "\n",
    "<details>\n",
    "<summary>10. Pet Food Recommendation\n",
    "</summary>\n",
    "Problem: Recommend a type of pet food based on the pet's species and age. (e.g., Dog: <2 years - Puppy food, Cat: >5 years - Senior cat food).\n",
    "\n",
    "</details>\n",
    "\n"
   ]
  },
  {
   "cell_type": "code",
   "execution_count": 73,
   "metadata": {},
   "outputs": [
    {
     "name": "stdout",
     "output_type": "stream",
     "text": [
      "5\n",
      "<class 'str'>\n",
      "<class 'int'>\n"
     ]
    },
    {
     "data": {
      "text/plain": [
       "2.5"
      ]
     },
     "execution_count": 73,
     "metadata": {},
     "output_type": "execute_result"
    }
   ],
   "source": [
    "user_score = input(\"Give me a score value: \\n\")\n",
    "\n",
    "print(user_score)\n",
    "print(type(user_score))\n",
    "\n",
    "user_score= int(user_score)\n",
    "print(type(user_score))\n",
    "\n",
    "user_score / 2\n",
    "\n"
   ]
  },
  {
   "cell_type": "code",
   "execution_count": 74,
   "metadata": {},
   "outputs": [
    {
     "name": "stdout",
     "output_type": "stream",
     "text": [
      "You are Senior Citizen\n"
     ]
    }
   ],
   "source": [
    "# Solution 1 Age Group Categorization\n",
    "\n",
    "age = int(input(\"Enter your age: \"))\n",
    "\n",
    "if age <= 13:\n",
    "    print(\"You are Child\")\n",
    "elif age >= 14 and age <= 19:\n",
    "    print(\"You are Teenager\")\n",
    "elif age >= 20 and age <= 59:\n",
    "    print(\"You are Adult\")\n",
    "else:\n",
    "    print(\"You are Senior Citizen\")"
   ]
  },
  {
   "cell_type": "code",
   "execution_count": 75,
   "metadata": {},
   "outputs": [
    {
     "name": "stdout",
     "output_type": "stream",
     "text": [
      "You are Child\n",
      "Your Ticket Price is: $8 Let us calculate if any discount availabe?\n",
      "We Are Very Sorry, Currently No Discount Available, Your Ticket Price is: $8\n"
     ]
    }
   ],
   "source": [
    "# Solution 2 Movie Ticket Pricing\n",
    "# priced based on age: $12 for adults (18 and over), $8 for children. Everyone gets a $2 discount on Wednesday.\n",
    "age = int(input(\"Enter your age: \"))\n",
    "day = input(\"Enter the day of the week: \")\n",
    "\n",
    "if age <= 17:\n",
    "    ticket_price = 8\n",
    "    print(\"You are Child\")\n",
    "    print(f\"Your Ticket Price is: ${ticket_price} Let us calculate if any discount availabe?\")\n",
    "    if day.lower() == \"wed\":\n",
    "        ticket_price -= 2\n",
    "        print(\"You got a discount\")\n",
    "        print(f\"Now After Discount, Your Ticket Price is: ${ticket_price}\")\n",
    "    else:\n",
    "        print(f\"We Are Very Sorry, Currently No Discount Available, Your Ticket Price is: ${ticket_price}\")\n",
    "        \n",
    "elif age >= 18:\n",
    "    ticket_price = 12\n",
    "    print(\"You are Adult\")\n",
    "    print(f\"Your Ticket Price is: ${ticket_price} Let us calculate if any discount availabe?\")\n",
    "    if day.lower() == \"wed\":\n",
    "        ticket_price -=2\n",
    "        print(\"You got a discount\")\n",
    "        print(f\"Now After Discount, Your Ticket Price is: ${ticket_price}\")\n",
    "    else:\n",
    "        print(f\"We Are Very Sorry, Currently No Discount Available, Your Ticket Price is: ${ticket_price}\")"
   ]
  },
  {
   "cell_type": "code",
   "execution_count": 76,
   "metadata": {},
   "outputs": [],
   "source": [
    "# Solution 2 Movie Ticket Pricing\n",
    "# priced based on age: $12 for adults (18 and over), $8 for children. Everyone gets a $2 discount on Wednesday.\n",
    "age = int(input(\"Enter your age: \"))\n",
    "day = input(\"Enter the day of the week: \")\n",
    "ticket_price = 12 if age >= 18 else 8\n",
    "\n",
    "if day.lower() == \"wed\":\n",
    "    ticket_price -= 2\n",
    "    print(f\"Your ticket price is ${ticket_price} for a ticket on {day}.\")\n",
    "\n"
   ]
  },
  {
   "cell_type": "code",
   "execution_count": 77,
   "metadata": {},
   "outputs": [
    {
     "name": "stdout",
     "output_type": "stream",
     "text": [
      "Your score is: 41\n",
      "Your grade is: F\n"
     ]
    }
   ],
   "source": [
    "# Solution 3 Grade Calculator\n",
    "# Assign a letter grade based on a student's score: A (90-100), B (80-89), C (70-79), D (60-69), F (below 60).\n",
    "\n",
    "import random\n",
    "# score = int(input(\"Enter your score (0-100): \"))\n",
    "\n",
    "# if score >= 101:\n",
    "#     print(\"Invalid score. Please enter a score between 0 and 100.\")\n",
    "\n",
    "score = random.randint(0, 100)  # Using int() to Truncate Decimal and Generate a random score between 0 and 100\n",
    "if score > 100 or score < 0:\n",
    "    print(\"Invalid score. Please enter a score between 0 and 100.\")\n",
    "    # exit()  # Exit the program if the score is invalid\n",
    "\n",
    "print(f\"Your score is: {score}\")\n",
    "\n",
    "if score >= 90:\n",
    "    grade = \"A\"\n",
    "elif score >= 80:\n",
    "    grade = \"B\"\n",
    "elif score >= 70:\n",
    "    grade = \"C\"\n",
    "elif score >= 60:\n",
    "    grade = \"D\"\n",
    "else:\n",
    "    grade = \"F\"\n",
    "print(f\"Your grade is: {grade}\")  # Corrected the print statement"
   ]
  },
  {
   "cell_type": "code",
   "execution_count": 78,
   "metadata": {},
   "outputs": [
    {
     "name": "stdout",
     "output_type": "stream",
     "text": [
      "Banana: Brown - Overripe\n"
     ]
    }
   ],
   "source": [
    "# Solution 4 Fruit Ripeness Checker\n",
    "# Determine if a fruit is ripe, overripe, or unripe based on its color. (e.g., Banana: Green - Unripe, Yellow - Ripe, Brown - Overripe)\n",
    "\n",
    "fruit = input(\"Enter the name of the fruit: \").title()\n",
    "color = input(\"Enter the color of the fruit: \").title()\n",
    "if fruit == \"Banana\":\n",
    "    if color == \"Green\":\n",
    "        print(f\"{fruit}: {color} - Unripe\")\n",
    "    elif color == \"Yellow\":\n",
    "        print(f\"{fruit}: {color} - Ripe\")\n",
    "    elif color == \"Brown\":\n",
    "        print(f\"{fruit}: {color} - Overripe\")\n",
    "    else:\n",
    "        print(\"Invalid color input.\")\n"
   ]
  },
  {
   "cell_type": "code",
   "execution_count": 90,
   "metadata": {},
   "outputs": [
    {
     "name": "stdout",
     "output_type": "stream",
     "text": [
      " Invalid Weather Input\n"
     ]
    }
   ],
   "source": [
    "# Solution 5 Weather Activity Suggestion\n",
    "# Suggest an activity based on the weather (e.g., Sunny - Go for a walk, Rainy - Read a book, Snowy - Build a snowman).\n",
    "\n",
    "weather = input(\"Enter the weather condition (Sunny, Rainy, Snowy): \").title()\n",
    "\n",
    "if weather == \"Sunny\":\n",
    "    activity = \"Go for a Walk\"\n",
    "elif weather == \"Rainy\":\n",
    "    activity = \"Read a Book\"\n",
    "elif weather == \"Snowy\":\n",
    "    activity = \"Build a Snowman\"\n",
    "else:\n",
    "    activity = \"Invalid Weather Input\"\n",
    "    \n",
    "print(f\"{weather} {activity}\")"
   ]
  },
  {
   "cell_type": "code",
   "execution_count": 113,
   "metadata": {},
   "outputs": [
    {
     "name": "stdout",
     "output_type": "stream",
     "text": [
      "Your distance is: 1.0km so recommended transportation mode is: Walk\n"
     ]
    }
   ],
   "source": [
    "# Solution 6 Transportation Mode Selection\n",
    "# Choose a mode of transportation based on the distance (e.g., <3 km: Walk, 3-15 km: Bike, >15 km: Car).\n",
    "\n",
    "distance = float(input(\"Enter the distance in kilometers: \"))\n",
    "\n",
    "if distance < 3:\n",
    "        transportation_mode = \"Walk\"\n",
    "elif distance >= 3 and distance <= 15:\n",
    "        transportation_mode = \"Bike\"\n",
    "else:\n",
    "        transportation_mode = \"Car\"\n",
    "print(f\"Your distance is: {distance}km so recommended transportation mode is: {transportation_mode}\")"
   ]
  },
  {
   "cell_type": "code",
   "execution_count": 116,
   "metadata": {},
   "outputs": [
    {
     "name": "stdout",
     "output_type": "stream",
     "text": [
      "Your order is a Small coffee without an extra shot of espresso.\n"
     ]
    }
   ],
   "source": [
    "# Solution 7 Coffee Customization\n",
    "# Customize a coffee order: \"Small\", \"Medium\", or \"Large\" with an option for \"Extra shot\" of espresso.\n",
    "\n",
    "order_size = input(\"Please Enter Your Coffee Order\").title()\n",
    "extra_shot = input(\"Do you want to add an extra shot of espresso? (y/n)\").title()\n",
    "\n",
    "if order_size == \"Large\" or order_size == \"Medium\" or order_size == \"Small\":\n",
    "    if extra_shot == \"Y\":\n",
    "        print(f\"Your order is a {order_size} coffee with an extra shot of espresso.\")\n",
    "    else:\n",
    "        print(f\"Your order is a {order_size} coffee without an extra shot of espresso.\")\n",
    "\n"
   ]
  },
  {
   "cell_type": "code",
   "execution_count": 144,
   "metadata": {},
   "outputs": [
    {
     "name": "stdout",
     "output_type": "stream",
     "text": [
      "The password '5555555555' is Strong.\n"
     ]
    }
   ],
   "source": [
    "# Solution 8 Password Strength Checker\n",
    "# Check if a password is \"Weak\", \"Medium\", or \"Strong\". Criteria: < 6 chars (Weak), 6-10 chars (Medium), >10 chars (Strong).\n",
    "\n",
    "password = input(\"Enter a password: \")\n",
    "\n",
    "if len(password) < 6:\n",
    "    strength = \"Weak\"\n",
    "elif len(password) >= 6 and len(password) < 10:\n",
    "    strength = \"Medium\"\n",
    "else:\n",
    "    strength = \"Strong\"\n",
    "print(f\"The password '{password}' is {strength}.\")"
   ]
  },
  {
   "cell_type": "code",
   "execution_count": 148,
   "metadata": {},
   "outputs": [
    {
     "name": "stdout",
     "output_type": "stream",
     "text": [
      "Leap year\n"
     ]
    }
   ],
   "source": [
    "# Solution 9 Leap Year Checker\n",
    "# Determine if a year is a leap year. (Leap years are divisible by 4, but not by 100 unless also divisible by 400).\n",
    "\n",
    "leap_year = int(input(\"Enter a year: \"))\n",
    "\n",
    "if leap_year % 4 == 0:\n",
    "    if leap_year % 100 == 0:\n",
    "        if leap_year % 400 == 0:\n",
    "            print(\"Leap year\")\n",
    "        else:\n",
    "            print(\"Not leap year\")\n",
    "    else:\n",
    "        print(\"Leap year\")\n",
    "\n"
   ]
  },
  {
   "cell_type": "code",
   "execution_count": 168,
   "metadata": {},
   "outputs": [
    {
     "name": "stdout",
     "output_type": "stream",
     "text": [
      "Invalid Input\n"
     ]
    }
   ],
   "source": [
    "# Solution 10 Pet Food Recommendation\n",
    "#Recommend a type of pet food based on the pet's species and age. (e.g., Dog: <2 years - Puppy food, Cat: >5 years - Senior cat food).\n",
    "\n",
    "pet = input(\"Please Enter your Pet: Dog/Cat\").title()\n",
    "pet_age = int(input(\"Please Enter your Pet Age\"))\n",
    "if pet == \"Cat\":\n",
    "    if pet_age >= 5:\n",
    "        food = \"Senior Cat Food\"\n",
    "    else:\n",
    "        food = \"Junior Cat Food\"\n",
    "    print(f\"Pet is: {pet}, and Age is: {pet_age}\")\n",
    "    print(f\"Your Pet Food is: {food}\")\n",
    "elif pet == \"Dog\":\n",
    "    if pet_age <= 2:\n",
    "        food = \"Puppy Food\"\n",
    "    else:\n",
    "        food = \"Adult Dog Food\"\n",
    "    print(f\"Pet is: {pet}, and Age is: {pet_age}\")\n",
    "    print(f\"Your Pet Food is: {food}\")\n",
    "else:\n",
    "    print(\"Invalid Input\")"
   ]
  },
  {
   "cell_type": "markdown",
   "metadata": {},
   "source": [
    "# Loops in Python\n",
    "\n",
    "<details>\n",
    "<summary>\n",
    "1. Counting Positive Numbers\n",
    "</summary>\n",
    "Problem: Given a list of numbers, count how many are positive.\n",
    "\n",
    "```python\n",
    "numbers = [1, -2, 3, -4, 5, 6, -7, -8, 9, 10]\n",
    "```\n",
    "\n",
    "</details>\n",
    "\n",
    "\n",
    "<details>\n",
    "<summary>\n",
    "2. Sum of Even Numbers\n",
    "</summary>\n",
    "Problem: Calculate the sum of even numbers up to a given number n.\n",
    "\n",
    "</details>\n",
    "\n",
    "\n",
    "<details>\n",
    "<summary>\n",
    "3. Multiplication Table Printer\n",
    "</summary>\n",
    "Problem: Print the multiplication table for a given number up to 10, but skip the fifth iteration.\n",
    "\n",
    "</details>\n",
    "\n",
    "\n",
    "<details>\n",
    "<summary>\n",
    "4. Reverse a String\n",
    "</summary>\n",
    "Problem: Reverse a string using a loop.\n",
    "\n",
    "</details>\n",
    "\n",
    "\n",
    "<details>\n",
    "<summary>\n",
    "5. Find the First Non-Repeated Character\n",
    "</summary>\n",
    "Problem: Given a string, find the first non-repeated character.\n",
    "\n",
    "</details>\n",
    "\n",
    "\n",
    "<details>\n",
    "<summary>\n",
    "6. Factorial Calculator\n",
    "</summary>\n",
    "Problem: Compute the factorial of a number using a while loop.\n",
    "\n",
    "</details>\n",
    "\n",
    "\n",
    "<details>\n",
    "<summary>\n",
    "7. Validate Input\n",
    "</summary>\n",
    "Problem: Keep asking the user for input until they enter a number between 1 and 10.\n",
    "\n",
    "</details>\n",
    "\n",
    "\n",
    "<details>\n",
    "<summary>\n",
    "8. Prime Number Checker\n",
    "</summary>\n",
    "Problem: Check if a number is prime.\n",
    "\n",
    "</details>\n",
    "\n",
    "\n",
    "<details>\n",
    "<summary>\n",
    "9. List Uniqueness Checker\n",
    "</summary>\n",
    "Problem: Check if all elements in a list are unique. If a duplicate is found, exit the loop and print the duplicate.\n",
    "\n",
    "```python\n",
    "items = [\"apple\", \"banana\", \"orange\", \"apple\", \"mango\"]\n",
    "```\n",
    "</details>\n",
    "\n",
    "\n",
    "<details>\n",
    "<summary>\n",
    "10. Exponential Backoff\n",
    "</summary>\n",
    "Problem: Implement an exponential backoff strategy that doubles the wait time between retries, starting from 1 second, but stops after 5 retries.\n",
    "</details>"
   ]
  },
  {
   "cell_type": "code",
   "execution_count": null,
   "metadata": {},
   "outputs": [],
   "source": [
    "# Loops Solution 1 Counting Positive Numbers\n",
    "# Given a list of numbers, count how many are positive. numbers = [1, -2, 3, -4, 5, 6, -7, -8, 9, 10]\n",
    "\n",
    "numbers = [1, -2, 3, -4, 5, 6, -7, -8, 9, 10]\n",
    "positive_count = 0\n",
    "for number in numbers:\n",
    "    if number > 0:\n",
    "        positive_count += 1\n",
    "        print(f\"List of Positive Numbers is: {number}\")\n",
    "print(f\"Count of Positive Numbers is: {positive_count}\")"
   ]
  },
  {
   "cell_type": "code",
   "execution_count": null,
   "metadata": {},
   "outputs": [],
   "source": [
    "# Loops Solution 2 Sum of Even Numbers\n",
    "# Calculate the sum of even numbers up to a given number n\n",
    "\n",
    "n = int(input(\"Enter a number: \"))\n",
    "sum_even = 0\n",
    "\n",
    "for i in range(1, n + 1):\n",
    "    if i % 2 == 0:\n",
    "        sum_even += 1\n",
    "print(f\"The sum of even numbers up to {n} is: {sum_even}\")"
   ]
  },
  {
   "cell_type": "code",
   "execution_count": null,
   "metadata": {},
   "outputs": [],
   "source": [
    "# Loops Solution 3 Multiplication Table Printer\n",
    "# Print the multiplication table for a given number up to 10, but skip the fifth iteration.\n",
    "\n",
    "n = int(input(\"Enter a number: \"))\n",
    "\n",
    "for i in range(1, 11):\n",
    "    if i == 5:\n",
    "        continue\n",
    "    print(f\"{n} x {i} = {n*i}\")"
   ]
  },
  {
   "cell_type": "code",
   "execution_count": null,
   "metadata": {},
   "outputs": [],
   "source": [
    "# Loops Solution 4 Reverse a String\n",
    "# Reverse a string using a loop.\n",
    "\n",
    "string = input(\"Enter a string: \")\n",
    "\n",
    "for i in reversed(string):\n",
    "    print(i, end=\"\")"
   ]
  },
  {
   "cell_type": "code",
   "execution_count": null,
   "metadata": {},
   "outputs": [],
   "source": [
    "# Loops Solution 4 Reverse a String\n",
    "# Reverse a string using a loop.\n",
    " \n",
    "string = input(\"Enter a string: \")\n",
    "reversed_string = \"\"\n",
    "\n",
    "for char in string:\n",
    "    reversed_string = char + reversed_string  \n",
    "print(\"The string is:\", string)\n",
    "print(\"The reversed string is:\", reversed_string)\n"
   ]
  },
  {
   "cell_type": "code",
   "execution_count": null,
   "metadata": {},
   "outputs": [],
   "source": [
    "# Loops Solution 5 Find the First Non-Repeated Character\n",
    "# Given a string, find the first non-repeated character.\n",
    "\n",
    "#string = input(\"Enter a string: \")\n",
    "string = \"teeteracdacd\"\n",
    "\n",
    "for i in string:\n",
    "    # print(i)\n",
    "    if string.count(i) == 1:\n",
    "        print(\"The first non-repeated character is:\", i)\n",
    "        break\n"
   ]
  },
  {
   "cell_type": "code",
   "execution_count": null,
   "metadata": {},
   "outputs": [],
   "source": [
    "# Loops Solution 6 Factorial Calculator\n",
    "# Compute the factorial of a number using a while loop.\n",
    "\n",
    "number = int(input(\"Enter a number: \"))\n",
    "factorial = 1\n",
    "while True:\n",
    "    if number == 0:\n",
    "        break\n",
    "    factorial *= number\n",
    "    number -= 1\n",
    "print(factorial)"
   ]
  },
  {
   "cell_type": "code",
   "execution_count": null,
   "metadata": {},
   "outputs": [],
   "source": [
    "# Loops Solution 7 Validate Input\n",
    "# Keep asking the user for input until they enter a number between 1 and 10.\n",
    "\n",
    "number = int(input(\"Enter a number between 1 and 10: \"))\n",
    "\n",
    "for i in range(1, 11):\n",
    "    if number < 1 or number > 10:\n",
    "        print(f\"You Entered: {number} as Invalid input.\")\n",
    "        number = int(input(\"Invalid input. Please enter a number between 1 and 10: \"))\n",
    "    else:\n",
    "        print(f\"You Entered: {number} as Valid input.\")\n",
    "        break"
   ]
  },
  {
   "cell_type": "code",
   "execution_count": null,
   "metadata": {},
   "outputs": [],
   "source": [
    "# Loops Solution 8 Prime Number Checker\n",
    "# Check if a number is prime.\n",
    "\n",
    "number = int(input(\"Enter a number: \"))\n",
    "\n",
    "for i in range(2, number):\n",
    "    if (number % i) == 0:\n",
    "        print(f\"{number} is not a prime number.\")\n",
    "        break\n",
    "else:\n",
    "    print(f\"{number} is a prime number.\")"
   ]
  },
  {
   "cell_type": "code",
   "execution_count": null,
   "metadata": {},
   "outputs": [],
   "source": [
    "# Loops Solution 9 List Uniqueness Checker\n",
    "# Check if all elements in a list are unique. If a duplicate is found, exit the loop and print the duplicate.\n",
    "\n",
    "items = [\"apple\", \"banana\", \"orange\", \"apple\", \"mango\"]\n",
    "\n",
    "for item in items:\n",
    "    if items.count(item) > 1:\n",
    "        print(f\"Duplicate found: {item}\")\n",
    "        break\n",
    "else:\n",
    "    print(\"No Duplicate found\")"
   ]
  },
  {
   "cell_type": "code",
   "execution_count": null,
   "metadata": {},
   "outputs": [],
   "source": [
    "# Loops Solution 9 List Uniqueness Checker\n",
    "# Check if all elements in a list are unique. If a duplicate is found, exit the loop and print the duplicate.\n",
    "\n",
    "items = [\"apple\", \"banana\", \"orange\", \"apple\", \"mango\"]\n",
    "\n",
    "unique_items = set()\n",
    "\n",
    "for item in items:\n",
    "    if item in unique_items:\n",
    "        print(f\"Duplicate found: {item}\")\n",
    "        break\n",
    "    unique_items.add(item)\n",
    "print(unique_items)"
   ]
  },
  {
   "cell_type": "code",
   "execution_count": null,
   "metadata": {},
   "outputs": [],
   "source": [
    "# Loops Solution 10 Exponential Backoff\n",
    "# Implement an exponential backoff strategy that doubles the wait time between retries, starting from 1 second, but stops after 5 retries.\n",
    "\n",
    "wait_time = 1\n",
    "max_retries = 6\n",
    "retries = 0\n",
    "successful = 1\n",
    "\n",
    "for i in range(1, max_retries):\n",
    "    if successful == retries :\n",
    "        print(\"Task completed successfully.\")\n",
    "        break\n",
    "    if retries < max_retries - 1:\n",
    "        retries += 1\n",
    "        wait_time *= 2\n",
    "        print(f\"{retries} retrying in {wait_time} seconds...\")\n",
    "else:\n",
    "    print(\"Maximum retries reached. Exiting.\")"
   ]
  },
  {
   "cell_type": "code",
   "execution_count": 377,
   "metadata": {},
   "outputs": [
    {
     "name": "stdout",
     "output_type": "stream",
     "text": [
      "Attempt 1: Waiting for 1 seconds...\n",
      "Attempt 2: Waiting for 2 seconds...\n",
      "Attempt 3: Waiting for 4 seconds...\n"
     ]
    }
   ],
   "source": [
    "# Loops Solution 10 Exponential Backoff\n",
    "# Implement an exponential backoff strategy that doubles the wait time between retries, starting from 1 second, but stops after 5 retries.\n",
    "\n",
    "import time\n",
    "\n",
    "wait_time = 1\n",
    "max_retries = 5\n",
    "attempts = 0\n",
    "\n",
    "while attempts < max_retries:\n",
    "    print(f\"Attempt {attempts + 1}: Waiting for {wait_time} seconds...\")\n",
    "    time.sleep(wait_time)\n",
    "    wait_time *= 2  # Double the wait time for the next retry\n",
    "    attempts += 1\n",
    "    "
   ]
  },
  {
   "cell_type": "markdown",
   "metadata": {},
   "source": [
    "## Iteration Tool"
   ]
  }
 ],
 "metadata": {
  "kernelspec": {
   "display_name": "Python 3",
   "language": "python",
   "name": "python3"
  },
  "language_info": {
   "codemirror_mode": {
    "name": "ipython",
    "version": 3
   },
   "file_extension": ".py",
   "mimetype": "text/x-python",
   "name": "python",
   "nbconvert_exporter": "python",
   "pygments_lexer": "ipython3",
   "version": "3.12.5"
  }
 },
 "nbformat": 4,
 "nbformat_minor": 2
}
