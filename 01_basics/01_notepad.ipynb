{
 "cells": [
  {
   "cell_type": "markdown",
   "metadata": {},
   "source": [
    "# Object Types / Data Types\n",
    "\n",
    "- Number : 1234, 3.1415, 3+4j, 0b111, Decimal(), Fraction()\n",
    "- String : 'spam', \"Bob's\", b'a\\x01c', u'sp\\xc4m'\n",
    "- List : [1, [2, 'three'], 4.5], list(range(10))\n",
    "- Tuple : (1, 'spam', 4, 'U'), tuple('spam'), namedtuple\n",
    "- Dictionary : {'food': 'spam', 'taste': 'yum'}, dict(hours=10)\n",
    "\n",
    "- Set : set('abc'), {'a', 'b', 'c'}, remove duplicat value\n",
    "\n",
    "- File : open('eggs.txt'), open(r'C:\\ham.bin', 'wb')\n",
    "\n",
    "- Boolean : True, False\n",
    "- None : None\n",
    "- Funtions, modules, classes\n",
    "\n",
    "- Advance: Decorators, Generators, Iterators, MetaProgramming"
   ]
  },
  {
   "cell_type": "code",
   "execution_count": 53,
   "metadata": {},
   "outputs": [],
   "source": [
    "import math\n",
    "import random"
   ]
  },
  {
   "cell_type": "code",
   "execution_count": 54,
   "metadata": {},
   "outputs": [
    {
     "data": {
      "text/plain": [
       "3.141592653589793"
      ]
     },
     "execution_count": 54,
     "metadata": {},
     "output_type": "execute_result"
    }
   ],
   "source": [
    "math.pi"
   ]
  },
  {
   "cell_type": "code",
   "execution_count": 55,
   "metadata": {},
   "outputs": [
    {
     "name": "stdout",
     "output_type": "stream",
     "text": [
      "0.2744736349452428\n"
     ]
    }
   ],
   "source": [
    "print(random.random())"
   ]
  },
  {
   "cell_type": "code",
   "execution_count": 56,
   "metadata": {},
   "outputs": [
    {
     "name": "stdout",
     "output_type": "stream",
     "text": [
      "2\n"
     ]
    }
   ],
   "source": [
    "print(random.choice([1, 2, 3, 4, 5]))"
   ]
  },
  {
   "cell_type": "code",
   "execution_count": 57,
   "metadata": {},
   "outputs": [
    {
     "name": "stdout",
     "output_type": "stream",
     "text": [
      "5\n",
      "A\n"
     ]
    }
   ],
   "source": [
    "username:str = \"Aijaz\"\n",
    "print(len(username))\n",
    "print(username[0])"
   ]
  },
  {
   "cell_type": "code",
   "execution_count": 58,
   "metadata": {},
   "outputs": [
    {
     "name": "stdout",
     "output_type": "stream",
     "text": [
      "z\n"
     ]
    }
   ],
   "source": [
    "print(username[-1])"
   ]
  },
  {
   "cell_type": "code",
   "execution_count": 59,
   "metadata": {},
   "outputs": [
    {
     "name": "stdout",
     "output_type": "stream",
     "text": [
      "z\n"
     ]
    }
   ],
   "source": [
    "print(username[len(username)-1])"
   ]
  },
  {
   "cell_type": "code",
   "execution_count": null,
   "metadata": {},
   "outputs": [],
   "source": [
    "dir(username)"
   ]
  },
  {
   "cell_type": "code",
   "execution_count": 67,
   "metadata": {},
   "outputs": [
    {
     "name": "stdout",
     "output_type": "stream",
     "text": [
      "[123, 'Tea', 3.14]\n",
      "3\n",
      "123\n",
      "3.14\n"
     ]
    }
   ],
   "source": [
    "mylist:list = [123, \"Tea\", 3.14]\n",
    "print(mylist)\n",
    "print(len(mylist))\n",
    "print(mylist[0])\n",
    "print(mylist[-1])"
   ]
  },
  {
   "cell_type": "code",
   "execution_count": 71,
   "metadata": {},
   "outputs": [
    {
     "name": "stdout",
     "output_type": "stream",
     "text": [
      "{'one': 'Lemon', 'two': 'Ginger Tea', 'Three': 'Superman'}\n",
      "Superman\n"
     ]
    }
   ],
   "source": [
    "mydictionory: dict = {'one':'Lemon','two':'Ginger Tea','Three':\"Superman\"}\n",
    "print(mydictionory)\n",
    "print(mydictionory['Three'])"
   ]
  },
  {
   "cell_type": "code",
   "execution_count": 72,
   "metadata": {},
   "outputs": [
    {
     "name": "stdout",
     "output_type": "stream",
     "text": [
      "(1, 2, 3, 4, 5, 6, 7, 8, 9, 10)\n",
      "1\n"
     ]
    }
   ],
   "source": [
    "myyuple:tuple = (1,2,3,4,5,6,7,8,9,10)\n",
    "print(myyuple)\n",
    "print(myyuple[0])"
   ]
  },
  {
   "cell_type": "code",
   "execution_count": 78,
   "metadata": {},
   "outputs": [
    {
     "name": "stdout",
     "output_type": "stream",
     "text": [
      "3\n",
      "4294967295\n"
     ]
    }
   ],
   "source": [
    "import sys\n",
    "\n",
    "# print(sys.version)\n",
    "print(sys.getrefcount(24601))\n",
    "print(sys.getrefcount(\"aijaz\"))"
   ]
  },
  {
   "cell_type": "code",
   "execution_count": 89,
   "metadata": {},
   "outputs": [
    {
     "name": "stdout",
     "output_type": "stream",
     "text": [
      "[1, 2, 3]\n",
      "[[1, 2, 3]]\n",
      "[33, 2, 3]\n",
      "[[33, 2, 3]]\n"
     ]
    }
   ],
   "source": [
    "mylistone:list = [1,2,3]\n",
    "mylisttwo:list = [mylistone]\n",
    "\n",
    "print(mylistone)\n",
    "print(mylisttwo)\n",
    "\n",
    "mylistone[0] = 33\n",
    "print(mylistone)\n",
    "print(mylisttwo)"
   ]
  },
  {
   "cell_type": "code",
   "execution_count": 91,
   "metadata": {},
   "outputs": [
    {
     "name": "stdout",
     "output_type": "stream",
     "text": [
      "[1, 2, 3]\n",
      "[1, 2, 3]\n",
      "[44, 2, 3]\n",
      "[44, 2, 3]\n"
     ]
    }
   ],
   "source": [
    "l1 = [1,2,3]\n",
    "l2 = l1\n",
    "\n",
    "print(l1)\n",
    "print(l2)\n",
    "\n",
    "l1[0] = 44\n",
    "\n",
    "print(l1)\n",
    "print(l2)\n"
   ]
  },
  {
   "cell_type": "code",
   "execution_count": 93,
   "metadata": {},
   "outputs": [
    {
     "name": "stdout",
     "output_type": "stream",
     "text": [
      "[1, 2, 3]\n",
      "[[1, 2, 3]]\n",
      "[55, 2, 3]\n",
      "[1, 2, 3]\n"
     ]
    }
   ],
   "source": [
    "p1 = [1,2,3]\n",
    "p2 = [p1]\n",
    "\n",
    "print(p1)\n",
    "print(p2)\n",
    "\n",
    "p2 = [1,2,3]\n",
    "p1[0] = 55\n",
    "\n",
    "print(p1)\n",
    "print(p2)\n"
   ]
  },
  {
   "cell_type": "code",
   "execution_count": 95,
   "metadata": {},
   "outputs": [
    {
     "name": "stdout",
     "output_type": "stream",
     "text": [
      "[1, 2, 3]\n",
      "[[1, 2, 3]]\n",
      "[55, 2, 3]\n",
      "[[1, 2, 3]]\n"
     ]
    }
   ],
   "source": [
    "h1 = [1,2,3]\n",
    "h2 = [h1[:]]\n",
    "\n",
    "print(h1)\n",
    "print(h2)\n",
    "\n",
    "h1[0] = 55\n",
    "\n",
    "print(h1)\n",
    "print(h2)"
   ]
  },
  {
   "cell_type": "code",
   "execution_count": 97,
   "metadata": {},
   "outputs": [
    {
     "name": "stdout",
     "output_type": "stream",
     "text": [
      "[1, 2, 3, 4, 5]\n",
      "[55, 2, 3]\n"
     ]
    }
   ],
   "source": [
    "import copy\n",
    "\n",
    "h2 = copy.copy(h1) #for copy list\n",
    "h2 = copy.deepcopy(h1) #for copy list in list\n",
    "\n",
    "h1 = [1, 2, 3, 4, 5]\n",
    "\n",
    "print(h1)\n",
    "print(h2)"
   ]
  },
  {
   "cell_type": "markdown",
   "metadata": {},
   "source": [
    "# Numbers\n",
    "\n",
    "- In Pythone numbers are very powerfull.\n",
    "\n",
    "- Matlab is using for numbers\n"
   ]
  },
  {
   "cell_type": "markdown",
   "metadata": {},
   "source": [
    "# Operator Over Loading\n",
    "\n",
    "class Point:\n",
    "    def __init__(self, x, y):\n",
    "        self.x = x\n",
    "        self.y = y\n",
    "\n",
    "#### Overloading the + operator\n",
    "    def __add__(self, other):\n",
    "        return Point(self.x + other.x, self.y + other.y)\n",
    "\n",
    "#### Overloading the str() function to print the point\n",
    "    def __str__(self):\n",
    "        return f\"({self.x}, {self.y})\"\n",
    "\n",
    "#### Creating two points\n",
    "p1 = Point(2, 3)\n",
    "p2 = Point(4, 5)\n",
    "\n",
    "### Adding the points using the + operator\n",
    "p3 = p1 + p2\n",
    "\n",
    "### Displaying the result\n",
    "print(p3)  # Output: (6, 8)"
   ]
  },
  {
   "cell_type": "code",
   "execution_count": 98,
   "metadata": {},
   "outputs": [
    {
     "name": "stdout",
     "output_type": "stream",
     "text": [
      "(6, 8)\n"
     ]
    }
   ],
   "source": [
    "class Point:\n",
    "    def __init__(self, x, y):\n",
    "        self.x = x\n",
    "        self.y = y\n",
    "\n",
    "    # Overloading the + operator\n",
    "    def __add__(self, other):\n",
    "        return Point(self.x + other.x, self.y + other.y)\n",
    "\n",
    "    # Overloading the str() function to print the point\n",
    "    def __str__(self):\n",
    "        return f\"({self.x}, {self.y})\"\n",
    "\n",
    "# Creating two points\n",
    "p1 = Point(2, 3)\n",
    "p2 = Point(4, 5)\n",
    "\n",
    "# Adding the points using the + operator\n",
    "p3 = p1 + p2\n",
    "\n",
    "# Displaying the result\n",
    "print(p3)  # Output: (6, 8)"
   ]
  },
  {
   "cell_type": "code",
   "execution_count": 101,
   "metadata": {},
   "outputs": [
    {
     "name": "stdout",
     "output_type": "stream",
     "text": [
      "'tea'\n",
      "tea\n",
      "tea\n"
     ]
    }
   ],
   "source": [
    "print(repr(\"tea\"))\n",
    "print(str(\"tea\"))\n",
    "print(\"tea\")"
   ]
  },
  {
   "cell_type": "code",
   "execution_count": 109,
   "metadata": {},
   "outputs": [
    {
     "name": "stdout",
     "output_type": "stream",
     "text": [
      "20 is greater than 3\n"
     ]
    }
   ],
   "source": [
    "# Comparision Operators\n",
    "\n",
    "def comparison_operators(x, y):\n",
    "    \"\"\"\n",
    "    Compare two values using comparison operators\n",
    "    \"\"\"\n",
    "    \n",
    "    if x > y:\n",
    "        print(f\"{x} is greater than {y}\")\n",
    "    elif x < y:\n",
    "        print(f\"{x} is less than {y}\")\n",
    "    else:\n",
    "        print(f\"{x} is equal to {y}\")\n",
    "\n",
    "comparison_operators(20,3)"
   ]
  },
  {
   "cell_type": "code",
   "execution_count": 117,
   "metadata": {},
   "outputs": [
    {
     "name": "stdout",
     "output_type": "stream",
     "text": [
      "False\n"
     ]
    }
   ],
   "source": [
    "x = 2\n",
    "y = 30\n",
    "z = 4\n",
    "print(x < y and y < z)"
   ]
  }
 ],
 "metadata": {
  "kernelspec": {
   "display_name": "Python 3",
   "language": "python",
   "name": "python3"
  },
  "language_info": {
   "codemirror_mode": {
    "name": "ipython",
    "version": 3
   },
   "file_extension": ".py",
   "mimetype": "text/x-python",
   "name": "python",
   "nbconvert_exporter": "python",
   "pygments_lexer": "ipython3",
   "version": "3.12.5"
  }
 },
 "nbformat": 4,
 "nbformat_minor": 2
}
