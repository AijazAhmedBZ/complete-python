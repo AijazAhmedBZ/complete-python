{
 "cells": [
  {
   "cell_type": "markdown",
   "metadata": {},
   "source": [
    "# Free Api\n",
    "- Username"
   ]
  },
  {
   "cell_type": "markdown",
   "metadata": {},
   "source": [
    "#### The API endpoint retrieves a single random user. When accessing this endpoint, you will receive a response containing the details of one randomly selected user."
   ]
  },
  {
   "cell_type": "code",
   "execution_count": 210,
   "metadata": {},
   "outputs": [
    {
     "name": "stdout",
     "output_type": "stream",
     "text": [
      "Random Username: yellowbutterfly791 \n",
      "Location: Mexico\n"
     ]
    }
   ],
   "source": [
    "import requests\n",
    "\n",
    "def fetch_random_user_freeapi():\n",
    "    url = \"https://api.freeapi.app/api/v1/public/randomusers/user/random\"\n",
    "    response = requests.get(url)\n",
    "    data = response.json()\n",
    "\n",
    "    if data [\"success\"] and \"data\" in data:\n",
    "        user_data = data[\"data\"]\n",
    "        username = user_data[\"login\"][\"username\"]\n",
    "        location = user_data[\"location\"][\"country\"]\n",
    "        return username, location\n",
    "    else:\n",
    "        raise Exception(\"Failed to fetch user data\")\n",
    "    \n",
    "def main():\n",
    "    try:\n",
    "        username, location = fetch_random_user_freeapi()\n",
    "        print(f\"Random Username: {username} \\nLocation: {location}\")\n",
    "    except Exception as e:\n",
    "        print(f\"Error: {e}\")\n",
    "\n",
    "if __name__ == \"__main__\":\n",
    "    main()"
   ]
  },
  {
   "cell_type": "markdown",
   "metadata": {},
   "source": [
    "#### The API endpoint retrieves a user based on the specified ID.\n",
    "\n",
    "- When accessing this endpoint and providing a valid user ID as a parameter, you will receive a response containing the details of the user matching the provided ID."
   ]
  },
  {
   "cell_type": "code",
   "execution_count": 242,
   "metadata": {},
   "outputs": [
    {
     "name": "stdout",
     "output_type": "stream",
     "text": [
      "User Name: happygoose680 \n",
      "UUID: 03e1e369-138c-442b-a046-904d1cc13d76\n"
     ]
    }
   ],
   "source": [
    "\n",
    "\n",
    "def fetch_user_id():\n",
    "    url = (\"https://api.freeapi.app/api/v1/public/randomusers/2\")\n",
    "    response = requests.get(url)\n",
    "    data = response.json()\n",
    "\n",
    "    if data[\"success\"] and \"data\" in data:\n",
    "        user_data = data[\"data\"]\n",
    "        user_name = user_data[\"login\"][\"username\"]\n",
    "        uuid = user_data[\"login\"][\"uuid\"]\n",
    "        return user_name, uuid\n",
    "    else:\n",
    "        raise Exception(\"Failed to fetch user data\")\n",
    "    \n",
    "def main():\n",
    "    try:\n",
    "        user_name, uuid = fetch_user_id()\n",
    "        print(f\"User Name: {user_name} \\nUUID: {uuid}\")\n",
    "        \n",
    "    except Exception as e:\n",
    "        print(f\"An error occurred: {e}\")\n",
    "\n",
    "if __name__ == \"__main__\":\n",
    "    main()"
   ]
  },
  {
   "cell_type": "markdown",
   "metadata": {},
   "source": [
    "#### The API endpoint allows you to retrieve a product based on the specified product ID.\n",
    "\n",
    "- When accessing this endpoint and providing a valid product ID as a parameter, you will receive a response containing the details of the product matching the provided ID."
   ]
  },
  {
   "cell_type": "code",
   "execution_count": 241,
   "metadata": {},
   "outputs": [
    {
     "name": "stdout",
     "output_type": "stream",
     "text": [
      "Product ID: 5 \n",
      "Product Tital: Huawei P30 \n",
      "Product Price: 499\n"
     ]
    }
   ],
   "source": [
    "\n",
    "\n",
    "def fetch_product_id():\n",
    "    id = input(\"Press Enter to fetch product ID... from 1-30: \")\n",
    "    url = (f\"https://api.freeapi.app/api/v1/public/randomproducts/{id}\")\n",
    "    response = requests.get(url)\n",
    "    data = response.json()\n",
    "    if data[\"success\"] and \"data\" in data:\n",
    "        product_data = data[\"data\"]\n",
    "        product_id = product_data[\"id\"]\n",
    "        product_title = product_data[\"title\"]\n",
    "        product_price = product_data[\"price\"]\n",
    "        return product_id, product_title, product_price\n",
    "\n",
    "    else:\n",
    "        raise Exception(\"Failed to fetch product ID\")\n",
    "    \n",
    "def main():\n",
    "    try:\n",
    "        product_id, product_title, product_price = fetch_product_id()\n",
    "        if product_id:\n",
    "            print(f\"Product ID: {product_id} \\nProduct Tital: {product_title} \\nProduct Price: {product_price}\")\n",
    "    except Exception as e:\n",
    "        print(f\"An error occurred: {e}\")\n",
    "\n",
    "if __name__ == \"__main__\":\n",
    "    main()"
   ]
  }
 ],
 "metadata": {
  "kernelspec": {
   "display_name": "Python 3",
   "language": "python",
   "name": "python3"
  },
  "language_info": {
   "codemirror_mode": {
    "name": "ipython",
    "version": 3
   },
   "file_extension": ".py",
   "mimetype": "text/x-python",
   "name": "python",
   "nbconvert_exporter": "python",
   "pygments_lexer": "ipython3",
   "version": "3.12.5"
  }
 },
 "nbformat": 4,
 "nbformat_minor": 2
}
