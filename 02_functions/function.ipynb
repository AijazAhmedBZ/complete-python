{
 "cells": [
  {
   "cell_type": "markdown",
   "metadata": {},
   "source": [
    "# Learn all about functions by answering the questions below.\n",
    "\n",
    "\n",
    "<details>\n",
    "<summary>\n",
    "1. Basic Function Syntax\n",
    "</summary>\n",
    "Problem: Write a function to calculate and return the square of a number.\n",
    "</details>\n",
    "\n",
    "\n",
    "<details>\n",
    "<summary>\n",
    "2. Function with Multiple Parameters\n",
    "</summary>\n",
    "Problem: Create a function that takes two numbers as parameters and returns their sum.\n",
    "</details>\n",
    "\n",
    "\n",
    "<details>\n",
    "<summary>\n",
    "3. Polymorphism in Functions\n",
    "</summary>\n",
    "Problem: Write a function multiply that multiplies two numbers, but can also accept and multiply strings.\n",
    "</details>\n",
    "\n",
    "\n",
    "<details>\n",
    "<summary>\n",
    "4. Function Returning Multiple Values\n",
    "</summary>\n",
    "Problem: Create a function that returns both the area and circumference of a circle given its radius.\n",
    "</details>\n",
    "\n",
    "\n",
    "<details>\n",
    "<summary>\n",
    "5. Default Parameter Value\n",
    "</summary>\n",
    "Problem: Write a function that greets a user. If no name is provided, it should greet with a default name.\n",
    "</details>\n",
    "\n",
    "\n",
    "<details>\n",
    "<summary>\n",
    "6. Lambda Function\n",
    "</summary>\n",
    "Problem: Create a lambda function to compute the cube of a number.\n",
    "</details>\n",
    "\n",
    "\n",
    "<details>\n",
    "<summary>\n",
    "7. Function with *args\n",
    "</summary>\n",
    "Problem: Write a function that takes variable number of arguments and returns their sum.\n",
    "</details>\n",
    "\n",
    "\n",
    "<details>\n",
    "<summary>\n",
    "8. Function with **kwargs\n",
    "</summary>\n",
    "Problem: Create a function that accepts any number of keyword arguments and prints them in the format key: value.\n",
    "</details>\n",
    "\n",
    "\n",
    "<details>\n",
    "<summary>\n",
    "9. Generator Function with yield\n",
    "</summary>\n",
    "Problem: Write a generator function that yields even numbers up to a specified limit.\n",
    "</details>\n",
    "\n",
    "\n",
    "<details>\n",
    "<summary>\n",
    "10. Recursive Function\n",
    "</summary>\n",
    "Problem: Create a recursive function to calculate the factorial of a number.\n",
    "</details>"
   ]
  },
  {
   "cell_type": "code",
   "execution_count": null,
   "metadata": {},
   "outputs": [],
   "source": [
    "# Solution 1 Basic Function Syntax\n",
    "# Write a function to calculate and return the square of a number.\n",
    "\n",
    "def square(number):\n",
    "    return number ** 2 # return number * number\n",
    "\n",
    "result = square(5)\n",
    "print(result)  # Output: 25"
   ]
  },
  {
   "cell_type": "code",
   "execution_count": null,
   "metadata": {},
   "outputs": [],
   "source": [
    "# Solution 2 Function with Multiple Parameters\n",
    "# Create a function that takes two numbers as parameters and returns their sum.\n",
    "\n",
    "def number( num1, num2):\n",
    "    sum = num1 + num2\n",
    "    return sum\n",
    "print(number(2, 3))"
   ]
  },
  {
   "cell_type": "code",
   "execution_count": null,
   "metadata": {},
   "outputs": [],
   "source": [
    "# Solution 3 Polymorphism in Functions\n",
    "# Write a function multiply that multiplies two numbers, but can also accept and multiply strings.\n",
    "\n",
    "def multiply(p1, p2):\n",
    "    return p1 * p2\n",
    "print(multiply(\"5\", 4))  # Output: 15"
   ]
  },
  {
   "cell_type": "code",
   "execution_count": null,
   "metadata": {},
   "outputs": [],
   "source": [
    "# Solution 4 Function Returning Multiple Values\n",
    "# Create a function that returns both the area and circumference of a circle given its radius.\n",
    "\n",
    "\"\"\"Returns the area and circumference of a circle given its radius.\n",
    "Args: radius (float): The radius of the circle.\n",
    "Returns: tuple: A tuple containing the area and circumference of the circle.\"\"\"\n",
    "\n",
    "import math\n",
    "\n",
    "def circle_stats(radius):\n",
    "    area = math.pi * radius ** 2\n",
    "    circumference = 2 * math.pi * radius\n",
    "    return area, circumference\n",
    "a, c = (circle_stats(3))\n",
    "\n",
    "print(f\"Area: {a:.2f}, Circumference: {c:.2f}\")"
   ]
  },
  {
   "cell_type": "code",
   "execution_count": null,
   "metadata": {},
   "outputs": [],
   "source": [
    "# Solution 5 Default Parameter Value\n",
    "# Write a function that greets a user. If no name is provided, it should greet with a default name.\n",
    "\n",
    "def greet(name=\"Guest\"):\n",
    "    return  f\"Hello, {name}!\"\n",
    "\n",
    "print(greet(input(\"Please Enter Your Name\")))\n",
    "print(greet())  # Output: Hello, Guest!"
   ]
  },
  {
   "cell_type": "code",
   "execution_count": null,
   "metadata": {},
   "outputs": [],
   "source": [
    "# Solution 6 Lambda Function\n",
    "# Create a lambda function to compute the cube of a number.\n",
    "\n",
    "cube = lambda x: x**3\n",
    "print(cube(3))"
   ]
  },
  {
   "cell_type": "code",
   "execution_count": null,
   "metadata": {},
   "outputs": [],
   "source": [
    "# Solution 7 Function with *args\n",
    "# Write a function that takes variable number of arguments and returns their sum.\n",
    "\n",
    "def sum_all(*args):\n",
    "    return sum(args)\n",
    "# or\n",
    "    # total = 0\n",
    "    # for arg in args:\n",
    "    #     total += arg\n",
    "    # return total\n",
    "\n",
    "print(sum_all(1, 2, 3))  # Output: 6"
   ]
  },
  {
   "cell_type": "code",
   "execution_count": null,
   "metadata": {},
   "outputs": [],
   "source": [
    "# Solution 8 Function with **kwargs\n",
    "# Create a function that accepts any number of keyword arguments and prints them in the format key: value.\n",
    "def print_kwargs(**kwargs):\n",
    "    for key, value in kwargs.items():\n",
    "        print(f\"{key}: {value}\")\n",
    "\n",
    "# Example usage\n",
    "print_kwargs(name=\"Alice\", age=30, city=\"New York\", gender=\"Woman\")"
   ]
  },
  {
   "cell_type": "code",
   "execution_count": null,
   "metadata": {},
   "outputs": [],
   "source": [
    "# Solution 9 Generator Function with yield\n",
    "# Write a generator function that yields even numbers up to a specified limit.\n",
    "\n",
    "def even_number_generator(limit):\n",
    "    for i in range(2, limit + 1, 2):\n",
    "        yield i\n",
    "for num in even_number_generator(10):\n",
    "    print(num)\n"
   ]
  },
  {
   "cell_type": "code",
   "execution_count": null,
   "metadata": {},
   "outputs": [],
   "source": [
    "# Solution 10 Recursive Function\n",
    "# Create a recursive function to calculate the factorial of a number.\n",
    "\n",
    "def factorial(n):\n",
    "    \"\"\" Calculate the factorial of a number using recursion.\n",
    "    Args: n (int): The number for which the factorial needs to be calculated.\n",
    "    Returns: int: The factorial of the given number.\n",
    "    \"\"\"\n",
    "    # Base case: If n is 0 or 1, return 1\n",
    "    if n == 0 or n == 1:\n",
    "        return 1\n",
    "    else:\n",
    "        # Recursive case: Calculate the factorial by multiplying n with the factorial of (n-1)\n",
    "        return n * factorial(n-1)\n",
    "print(factorial(int(input(\"Please Enter number to calulate Factorial: \"))))"
   ]
  }
 ],
 "metadata": {
  "kernelspec": {
   "display_name": "Python 3",
   "language": "python",
   "name": "python3"
  },
  "language_info": {
   "codemirror_mode": {
    "name": "ipython",
    "version": 3
   },
   "file_extension": ".py",
   "mimetype": "text/x-python",
   "name": "python",
   "nbconvert_exporter": "python",
   "pygments_lexer": "ipython3",
   "version": "3.12.5"
  }
 },
 "nbformat": 4,
 "nbformat_minor": 2
}
