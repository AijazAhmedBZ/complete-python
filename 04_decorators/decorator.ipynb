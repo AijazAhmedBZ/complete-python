{
 "cells": [
  {
   "cell_type": "markdown",
   "metadata": {},
   "source": [
    "# learn about decorators\n",
    "\n",
    "\n",
    "<details>\n",
    "<summary>\n",
    "Problem 1: Timing Function Execution\n",
    "</summary>\n",
    "Problem: Write a decorator that measures the time a function takes to execute.\n",
    "</details>\n",
    "\n",
    "\n",
    "<details>\n",
    "<summary>\n",
    "Problem 2: Debugging Function Calls\n",
    "</summary>\n",
    "Problem: Create a decorator to print the function name and the values of its arguments every time the function is called.\n",
    "</details>\n",
    "\n",
    "\n",
    "<details>\n",
    "<summary>\n",
    "Problem 3: Cache Return Values\n",
    "</summary>\n",
    "Problem: Implement a decorator that caches the return values of a function, so that when it's called with the same arguments, the cached value is returned instead of re-executing the function.\n",
    "</details>"
   ]
  },
  {
   "cell_type": "code",
   "execution_count": 68,
   "metadata": {},
   "outputs": [
    {
     "name": "stdout",
     "output_type": "stream",
     "text": [
      "Function my_function took 2.00 seconds to execute.\n"
     ]
    }
   ],
   "source": [
    "# Solution 1 Timing Function Execution\n",
    "# Write a decorator that measures the time a function takes to execute.\n",
    "\n",
    "import time\n",
    "\n",
    "def timeit(func):\n",
    "    def wrapper(*args, **kwargs):\n",
    "        start = time.time()\n",
    "        result = func(*args, **kwargs)\n",
    "        end = time.time()\n",
    "        print(f\"Function {func.__name__} took {end - start:.2f} seconds to execute.\")\n",
    "        return result\n",
    "    return wrapper\n",
    "\n",
    "@timeit\n",
    "def my_function(n):\n",
    "    time.sleep(n)  # Simulate a time-consuming operation\n",
    "\n",
    "my_function(2)"
   ]
  },
  {
   "cell_type": "code",
   "execution_count": 79,
   "metadata": {},
   "outputs": [
    {
     "name": "stdout",
     "output_type": "stream",
     "text": [
      "Calling add_numbers(5, 7)\n",
      "'add_numbers' returned 12\n"
     ]
    },
    {
     "data": {
      "text/plain": [
       "12"
      ]
     },
     "execution_count": 79,
     "metadata": {},
     "output_type": "execute_result"
    }
   ],
   "source": [
    "# Solution 2  Debugging Function Calls\n",
    "# Create a decorator to print the function name and the values of its arguments every time the function is called.\n",
    "\n",
    "def debug(func):\n",
    "    def wrapper(*args, **kwargs):\n",
    "        args_repr = [repr(a) for a in args]\n",
    "        kwargs_repr = [f\"{k}={v!r}\" for k, v in kwargs.items()]\n",
    "        signature = \", \".join(args_repr + kwargs_repr)\n",
    "        print(f\"Calling {func.__name__}({signature})\")\n",
    "        result = func(*args, **kwargs)\n",
    "        print(f\"{func.__name__!r} returned {result!r}\")\n",
    "        return result\n",
    "    return wrapper\n",
    "\n",
    "@debug\n",
    "def add_numbers(a, b):\n",
    "    return a + b\n",
    "\n",
    "add_numbers(5, 7)\n"
   ]
  },
  {
   "cell_type": "code",
   "execution_count": 115,
   "metadata": {},
   "outputs": [
    {
     "name": "stdout",
     "output_type": "stream",
     "text": [
      "Calling hello with args  and kwargs \n",
      "Salam Mr. Aijaz\n",
      "Calling greet with args Mr. Aijaz and kwargs greeting: Aoa\n",
      "Aoa, Mr. Aijaz!\n"
     ]
    }
   ],
   "source": [
    "# Solution 2  Debugging Function Calls\n",
    "# Create a decorator to print the function name and the values of its arguments every time the function is called.\n",
    "\n",
    "def debug(func):\n",
    "    def wrapper(*args, **kwargs):\n",
    "        args_values = ', '.join(str(arg) for arg in args)\n",
    "        kwargs_values = ', '.join(f\"{k}: {v}\" for k, v in kwargs.items())\n",
    "        print(f\"Calling {func.__name__} with args {args_values} and kwargs {kwargs_values}\")\n",
    "        return func(*args, **kwargs)\n",
    "    return wrapper\n",
    "\n",
    "@debug\n",
    "def hello():\n",
    "    print(\"Salam\", \"Mr. Aijaz\")\n",
    "\n",
    "@debug\n",
    "def greet(name, greeting='Hello'):\n",
    "    print(f\"{greeting}, {name}!\")\n",
    "\n",
    "hello()\n",
    "greet('Mr. Aijaz', greeting='Aoa')"
   ]
  },
  {
   "cell_type": "code",
   "execution_count": 158,
   "metadata": {},
   "outputs": [
    {
     "name": "stdout",
     "output_type": "stream",
     "text": [
      "\n",
      "{(): None} Calculating and caching the value\n"
     ]
    }
   ],
   "source": [
    "# Solution Problem 3 Cache Return Values\n",
    "# Implement a decorator that caches the return values of a function, so that when it's called with the same arguments, the cached value is returned instead of re-executing the function.\n",
    "\n",
    "def cache(func):\n",
    "    cache = {}\n",
    "    def wrapper(*args):\n",
    "        if args in cache:\n",
    "            print(f\"{cache} Returning cached value\")\n",
    "            return cache[args]\n",
    "        else:\n",
    "            value = func(*args)\n",
    "            cache[args] = value\n",
    "            print(f\"{cache} Calculating and caching the value\")\n",
    "            return value\n",
    "    return wrapper\n",
    "\n",
    "@cache\n",
    "def hi():\n",
    "    print(\"\")\n",
    "hi()"
   ]
  },
  {
   "cell_type": "code",
   "execution_count": 180,
   "metadata": {},
   "outputs": [
    {
     "name": "stdout",
     "output_type": "stream",
     "text": [
      "cache_value: {}\n",
      "1st calling: 5\n",
      "2nd calling: 5\n",
      "3rd calling: 7\n"
     ]
    }
   ],
   "source": [
    "# Solution Problem 3 Cache Return Values\n",
    "# Implement a decorator that caches the return values of a function, so that when it's called with the same arguments, the cached value is returned instead of re-executing the function.\n",
    "\n",
    "import time\n",
    "\n",
    "def cache(func):\n",
    "    cache_value = {}\n",
    "    print(f\"cache_value: {cache_value}\")\n",
    "    def wrapper(*args):\n",
    "        if args in cache_value:\n",
    "            return cache_value[args]\n",
    "        else:\n",
    "            result = func(*args)\n",
    "            cache_value[args] = result\n",
    "            return result\n",
    "    return wrapper\n",
    "\n",
    "@cache\n",
    "def long_running_function(a,b):\n",
    "    time.sleep(4)  # Simulating a long-running function\n",
    "    return a + b\n",
    "print(f\"1st calling: {long_running_function(2, 3)}\")\n",
    "print(f\"2nd calling: {long_running_function(2, 3)}\")\n",
    "print(f\"3rd calling: {long_running_function(4, 3)}\")\n"
   ]
  }
 ],
 "metadata": {
  "kernelspec": {
   "display_name": "Python 3",
   "language": "python",
   "name": "python3"
  },
  "language_info": {
   "codemirror_mode": {
    "name": "ipython",
    "version": 3
   },
   "file_extension": ".py",
   "mimetype": "text/x-python",
   "name": "python",
   "nbconvert_exporter": "python",
   "pygments_lexer": "ipython3",
   "version": "3.12.5"
  }
 },
 "nbformat": 4,
 "nbformat_minor": 2
}
